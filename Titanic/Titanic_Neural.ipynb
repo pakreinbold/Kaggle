{
 "cells": [
  {
   "cell_type": "code",
   "execution_count": 1,
   "metadata": {
    "_cell_guid": "b1076dfc-b9ad-4769-8c92-a6c4dae69d19",
    "_uuid": "8f2839f25d086af736a60e9eeb907d3b93b6e0e5",
    "execution": {
     "iopub.execute_input": "2021-02-02T18:29:41.050824Z",
     "iopub.status.busy": "2021-02-02T18:29:41.049762Z",
     "iopub.status.idle": "2021-02-02T18:29:49.470087Z",
     "shell.execute_reply": "2021-02-02T18:29:49.470779Z"
    },
    "papermill": {
     "duration": 8.445658,
     "end_time": "2021-02-02T18:29:49.471179",
     "exception": false,
     "start_time": "2021-02-02T18:29:41.025521",
     "status": "completed"
    },
    "tags": []
   },
   "outputs": [
    {
     "name": "stdout",
     "output_type": "stream",
     "text": [
      "/kaggle/input/titanic/train.csv\n",
      "/kaggle/input/titanic/test.csv\n",
      "/kaggle/input/titanic/gender_submission.csv\n"
     ]
    }
   ],
   "source": [
    "# This Python 3 environment comes with many helpful analytics libraries installed\n",
    "# It is defined by the kaggle/python Docker image: https://github.com/kaggle/docker-python\n",
    "# For example, here's several helpful packages to load\n",
    "\n",
    "import numpy as np # linear algebra\n",
    "import pandas as pd # data processing, CSV file I/O (e.g. pd.read_csv)\n",
    "\n",
    "# Input data files are available in the read-only \"../input/\" directory\n",
    "# For example, running this (by clicking run or pressing Shift+Enter) will list all files under the input directory\n",
    "\n",
    "import os\n",
    "for dirname, _, filenames in os.walk('/kaggle/input'):\n",
    "    for filename in filenames:\n",
    "        print(os.path.join(dirname, filename))\n",
    "\n",
    "# You can write up to 20GB to the current directory (/kaggle/working/) that gets preserved as output when you create a version using \"Save & Run All\" \n",
    "# You can also write temporary files to /kaggle/temp/, but they won't be saved outside of the current session\n",
    "\n",
    "import tensorflow as tf\n",
    "from tensorflow import keras\n",
    "from sklearn.preprocessing import StandardScaler\n",
    "from sklearn.impute import SimpleImputer\n",
    "from sklearn.metrics import confusion_matrix\n",
    "import seaborn as sns\n",
    "import matplotlib.pyplot as plt\n",
    "\n",
    "# Convert the sexes into binary\n",
    "def sex_converter(sex):\n",
    "    if sex == 'male':\n",
    "        return 0\n",
    "    elif sex == 'female':\n",
    "        return 1\n",
    "    \n",
    "# Convert the embarked port into categories\n",
    "def embarked_converter(port):\n",
    "    if port == 'S':\n",
    "        return 0\n",
    "    elif port == 'C':\n",
    "        return 1\n",
    "    elif port == 'Q':\n",
    "        return -1\n",
    "    \n",
    "def snap(y):\n",
    "    y[y >= 0.5] = 1\n",
    "    y[y < 0.5] = 0\n",
    "    return y"
   ]
  },
  {
   "cell_type": "code",
   "execution_count": 2,
   "metadata": {
    "execution": {
     "iopub.execute_input": "2021-02-02T18:29:49.496586Z",
     "iopub.status.busy": "2021-02-02T18:29:49.495850Z",
     "iopub.status.idle": "2021-02-02T18:29:50.601160Z",
     "shell.execute_reply": "2021-02-02T18:29:50.600615Z"
    },
    "papermill": {
     "duration": 1.121202,
     "end_time": "2021-02-02T18:29:50.601312",
     "exception": false,
     "start_time": "2021-02-02T18:29:49.480110",
     "status": "completed"
    },
    "tags": []
   },
   "outputs": [
    {
     "name": "stdout",
     "output_type": "stream",
     "text": [
      "342 people survived out of 891 passengers\n",
      "Which means 549 people died out of 891 passengers\n"
     ]
    },
    {
     "data": {
      "image/png": "[encoded data removed]",
      "text/plain": [
       "<Figure size 432x288 with 14 Axes>"
      ]
     },
     "metadata": {
      "needs_background": "light"
     },
     "output_type": "display_data"
    }
   ],
   "source": [
    "# Load the data from csv & peak @ its contents\n",
    "train_path = '/kaggle/input/titanic/train.csv'\n",
    "df_train = pd.read_csv(train_path)\n",
    "\n",
    "# Convert non-numerics to numerics    \n",
    "df_train['sex'] = df_train['Sex'].map(sex_converter)    \n",
    "df_train['port'] = df_train['Embarked'].map(embarked_converter)\n",
    "\n",
    "# How many people survived ?\n",
    "total_passengers = len(df_train.index)\n",
    "total_survived = df_train['Survived'].sum()\n",
    "total_died = total_passengers - total_survived\n",
    "print('{} people survived out of {} passengers'.format(total_survived, total_passengers))\n",
    "print('Which means {} people died out of {} passengers'.format(total_died, total_passengers))\n",
    "\n",
    "# Is there a relationship between fare & Pclass?\n",
    "# sns.scatterplot(data=df_train, x='Fare', y='Pclass')\n",
    "# Only first class tickets > 100\n",
    "\n",
    "# What's the distribution of survivors for the various metrics\n",
    "vars_int = ['Sex', 'Pclass', 'Embarked', 'Age', 'Fare', 'Sibsp', 'Parch']\n",
    "fig, axes = plt.subplots(len(vars_int), 2)\n"
   ]
  },
  {
   "cell_type": "code",
   "execution_count": 3,
   "metadata": {
    "execution": {
     "iopub.execute_input": "2021-02-02T18:29:50.633491Z",
     "iopub.status.busy": "2021-02-02T18:29:50.632412Z",
     "iopub.status.idle": "2021-02-02T18:29:50.662942Z",
     "shell.execute_reply": "2021-02-02T18:29:50.663474Z"
    },
    "papermill": {
     "duration": 0.053406,
     "end_time": "2021-02-02T18:29:50.663666",
     "exception": false,
     "start_time": "2021-02-02T18:29:50.610260",
     "status": "completed"
    },
    "tags": []
   },
   "outputs": [],
   "source": [
    "\n",
    "\n",
    "# Need to standardize the data\n",
    "scaler_age = StandardScaler()\n",
    "scaler_fare = StandardScaler()\n",
    "df_train['age'] = scaler_age.fit_transform(df_train[['Age']])\n",
    "df_train['fare'] = scaler_fare.fit_transform(df_train[['Fare']])\n",
    "\n",
    "# Only consider Pclass, sex, age, sibsp, fare, parch, & port\n",
    "# vars_list = ['Pclass', 'sex', 'age', 'SibSp', 'Parch', 'fare', 'port']\n",
    "vars_list = ['Pclass', 'sex', 'age']\n",
    "inputs_train = df_train[vars_list].to_numpy()\n",
    "\n",
    "# Impute nans to mean\n",
    "imp = SimpleImputer(missing_values=np.nan, strategy='mean')\n",
    "inputs_train = imp.fit_transform(inputs_train)\n",
    "\n",
    "# Convert to tensors for use with keras NN\n",
    "X_train = tf.constant(inputs_train, dtype=float)\n",
    "y_true = tf.constant(df_train['Survived'].to_numpy(), dtype=float)"
   ]
  },
  {
   "cell_type": "code",
   "execution_count": 4,
   "metadata": {
    "execution": {
     "iopub.execute_input": "2021-02-02T18:29:50.685485Z",
     "iopub.status.busy": "2021-02-02T18:29:50.684513Z",
     "iopub.status.idle": "2021-02-02T18:29:50.970591Z",
     "shell.execute_reply": "2021-02-02T18:29:50.971089Z"
    },
    "papermill": {
     "duration": 0.298668,
     "end_time": "2021-02-02T18:29:50.971280",
     "exception": false,
     "start_time": "2021-02-02T18:29:50.672612",
     "status": "completed"
    },
    "tags": []
   },
   "outputs": [],
   "source": [
    "# Construct a neural network model\n",
    "model = keras.Sequential()\n",
    "model.add(keras.layers.Dense(50, activation='relu', input_shape=(X_train.shape[1],)))\n",
    "model.add(keras.layers.Dropout(0.2))\n",
    "model.add(keras.layers.Dense(20, activation='relu'))\n",
    "model.add(keras.layers.Dropout(0.2))\n",
    "model.add(keras.layers.Dense(1, activation='sigmoid'))\n",
    "model.compile('adam', loss='binary_crossentropy', metrics=['accuracy'])"
   ]
  },
  {
   "cell_type": "code",
   "execution_count": 5,
   "metadata": {
    "execution": {
     "iopub.execute_input": "2021-02-02T18:29:50.992808Z",
     "iopub.status.busy": "2021-02-02T18:29:50.992195Z",
     "iopub.status.idle": "2021-02-02T18:30:11.177333Z",
     "shell.execute_reply": "2021-02-02T18:30:11.176276Z"
    },
    "papermill": {
     "duration": 20.197199,
     "end_time": "2021-02-02T18:30:11.177489",
     "exception": false,
     "start_time": "2021-02-02T18:29:50.980290",
     "status": "completed"
    },
    "tags": []
   },
   "outputs": [
    {
     "data": {
      "text/plain": [
       "<tensorflow.python.keras.callbacks.History at 0x7f33a51844d0>"
      ]
     },
     "execution_count": 5,
     "metadata": {},
     "output_type": "execute_result"
    }
   ],
   "source": [
    "# Now fit the training data\n",
    "model.fit(X_train, y_true, epochs=100, batch_size=5, verbose=0)"
   ]
  },
  {
   "cell_type": "code",
   "execution_count": 6,
   "metadata": {
    "execution": {
     "iopub.execute_input": "2021-02-02T18:30:11.203899Z",
     "iopub.status.busy": "2021-02-02T18:30:11.203233Z",
     "iopub.status.idle": "2021-02-02T18:30:11.536314Z",
     "shell.execute_reply": "2021-02-02T18:30:11.537813Z"
    },
    "papermill": {
     "duration": 0.35106,
     "end_time": "2021-02-02T18:30:11.538194",
     "exception": false,
     "start_time": "2021-02-02T18:30:11.187134",
     "status": "completed"
    },
    "tags": []
   },
   "outputs": [
    {
     "name": "stdout",
     "output_type": "stream",
     "text": [
      "28/28 [==============================] - 0s 1ms/step - loss: 0.4129 - accuracy: 0.8092\n",
      "[[476  73]\n",
      " [ 97 245]]\n"
     ]
    }
   ],
   "source": [
    "model.evaluate(X_train, y_true)\n",
    "\n",
    "# Look @ confusion matrix\n",
    "y_train = model.predict(X_train)\n",
    "y_train = snap(y_train)\n",
    "print(confusion_matrix(y_true, y_train))"
   ]
  },
  {
   "cell_type": "code",
   "execution_count": 7,
   "metadata": {
    "execution": {
     "iopub.execute_input": "2021-02-02T18:30:11.566567Z",
     "iopub.status.busy": "2021-02-02T18:30:11.565861Z",
     "iopub.status.idle": "2021-02-02T18:30:11.964223Z",
     "shell.execute_reply": "2021-02-02T18:30:11.962996Z"
    },
    "papermill": {
     "duration": 0.414048,
     "end_time": "2021-02-02T18:30:11.964452",
     "exception": false,
     "start_time": "2021-02-02T18:30:11.550404",
     "status": "completed"
    },
    "tags": []
   },
   "outputs": [
    {
     "name": "stdout",
     "output_type": "stream",
     "text": [
      "   PassengerId  Pclass                                          Name     Sex  \\\n",
      "0          892       3                              Kelly, Mr. James    male   \n",
      "1          893       3              Wilkes, Mrs. James (Ellen Needs)  female   \n",
      "2          894       2                     Myles, Mr. Thomas Francis    male   \n",
      "3          895       3                              Wirz, Mr. Albert    male   \n",
      "4          896       3  Hirvonen, Mrs. Alexander (Helga E Lindqvist)  female   \n",
      "\n",
      "    Age  SibSp  Parch   Ticket     Fare Cabin Embarked  \n",
      "0  34.5      0      0   330911   7.8292   NaN        Q  \n",
      "1  47.0      1      0   363272   7.0000   NaN        S  \n",
      "2  62.0      0      0   240276   9.6875   NaN        Q  \n",
      "3  27.0      0      0   315154   8.6625   NaN        S  \n",
      "4  22.0      1      1  3101298  12.2875   NaN        S  \n"
     ]
    },
    {
     "ename": "AttributeError",
     "evalue": "'DataFrame' object has no attribute 'infto'",
     "output_type": "error",
     "traceback": [
      "\u001b[0;31m---------------------------------------------------------------------------\u001b[0m",
      "\u001b[0;31mAttributeError\u001b[0m                            Traceback (most recent call last)",
      "\u001b[0;32m<ipython-input-7-cee82b228da7>\u001b[0m in \u001b[0;36m<module>\u001b[0;34m\u001b[0m\n\u001b[1;32m      3\u001b[0m \u001b[0mdf_test\u001b[0m \u001b[0;34m=\u001b[0m \u001b[0mpd\u001b[0m\u001b[0;34m.\u001b[0m\u001b[0mread_csv\u001b[0m\u001b[0;34m(\u001b[0m\u001b[0mtest_path\u001b[0m\u001b[0;34m)\u001b[0m\u001b[0;34m\u001b[0m\u001b[0;34m\u001b[0m\u001b[0m\n\u001b[1;32m      4\u001b[0m \u001b[0mprint\u001b[0m\u001b[0;34m(\u001b[0m\u001b[0mdf_test\u001b[0m\u001b[0;34m.\u001b[0m\u001b[0mhead\u001b[0m\u001b[0;34m(\u001b[0m\u001b[0;34m)\u001b[0m\u001b[0;34m)\u001b[0m\u001b[0;34m\u001b[0m\u001b[0;34m\u001b[0m\u001b[0m\n\u001b[0;32m----> 5\u001b[0;31m \u001b[0mprint\u001b[0m\u001b[0;34m(\u001b[0m\u001b[0mdf_test\u001b[0m\u001b[0;34m.\u001b[0m\u001b[0minfto\u001b[0m\u001b[0;34m(\u001b[0m\u001b[0;34m)\u001b[0m\u001b[0;34m)\u001b[0m\u001b[0;34m\u001b[0m\u001b[0;34m\u001b[0m\u001b[0m\n\u001b[0m",
      "\u001b[0;32m/opt/conda/lib/python3.7/site-packages/pandas/core/generic.py\u001b[0m in \u001b[0;36m__getattr__\u001b[0;34m(self, name)\u001b[0m\n\u001b[1;32m   5458\u001b[0m             \u001b[0;32mif\u001b[0m \u001b[0mself\u001b[0m\u001b[0;34m.\u001b[0m\u001b[0m_info_axis\u001b[0m\u001b[0;34m.\u001b[0m\u001b[0m_can_hold_identifiers_and_holds_name\u001b[0m\u001b[0;34m(\u001b[0m\u001b[0mname\u001b[0m\u001b[0;34m)\u001b[0m\u001b[0;34m:\u001b[0m\u001b[0;34m\u001b[0m\u001b[0;34m\u001b[0m\u001b[0m\n\u001b[1;32m   5459\u001b[0m                 \u001b[0;32mreturn\u001b[0m \u001b[0mself\u001b[0m\u001b[0;34m[\u001b[0m\u001b[0mname\u001b[0m\u001b[0;34m]\u001b[0m\u001b[0;34m\u001b[0m\u001b[0;34m\u001b[0m\u001b[0m\n\u001b[0;32m-> 5460\u001b[0;31m             \u001b[0;32mreturn\u001b[0m \u001b[0mobject\u001b[0m\u001b[0;34m.\u001b[0m\u001b[0m__getattribute__\u001b[0m\u001b[0;34m(\u001b[0m\u001b[0mself\u001b[0m\u001b[0;34m,\u001b[0m \u001b[0mname\u001b[0m\u001b[0;34m)\u001b[0m\u001b[0;34m\u001b[0m\u001b[0;34m\u001b[0m\u001b[0m\n\u001b[0m\u001b[1;32m   5461\u001b[0m \u001b[0;34m\u001b[0m\u001b[0m\n\u001b[1;32m   5462\u001b[0m     \u001b[0;32mdef\u001b[0m \u001b[0m__setattr__\u001b[0m\u001b[0;34m(\u001b[0m\u001b[0mself\u001b[0m\u001b[0;34m,\u001b[0m \u001b[0mname\u001b[0m\u001b[0;34m:\u001b[0m \u001b[0mstr\u001b[0m\u001b[0;34m,\u001b[0m \u001b[0mvalue\u001b[0m\u001b[0;34m)\u001b[0m \u001b[0;34m->\u001b[0m \u001b[0;32mNone\u001b[0m\u001b[0;34m:\u001b[0m\u001b[0;34m\u001b[0m\u001b[0;34m\u001b[0m\u001b[0m\n",
      "\u001b[0;31mAttributeError\u001b[0m: 'DataFrame' object has no attribute 'infto'"
     ]
    }
   ],
   "source": [
    "# Now load the test data and make predictions\n",
    "test_path = '/kaggle/input/titanic/test.csv'\n",
    "df_test = pd.read_csv(test_path)\n",
    "print(df_test.head())\n",
    "print(df_test.infto())"
   ]
  },
  {
   "cell_type": "code",
   "execution_count": 8,
   "metadata": {
    "execution": {
     "iopub.execute_input": "2021-02-02T18:30:11.996276Z",
     "iopub.status.busy": "2021-02-02T18:30:11.995520Z",
     "iopub.status.idle": "2021-02-02T18:30:12.023343Z",
     "shell.execute_reply": "2021-02-02T18:30:12.022726Z"
    },
    "papermill": {
     "duration": 0.044566,
     "end_time": "2021-02-02T18:30:12.023509",
     "exception": false,
     "start_time": "2021-02-02T18:30:11.978943",
     "status": "completed"
    },
    "tags": []
   },
   "outputs": [],
   "source": [
    "df_test['sex'] = df_test['Sex'].map(sex_converter)    \n",
    "df_test['port'] = df_test['Embarked'].map(embarked_converter)\n",
    "\n",
    "scaler_age = StandardScaler()\n",
    "scaler_fare = StandardScaler()\n",
    "df_test['age'] = scaler_age.fit_transform(df_test[['Age']])\n",
    "df_test['fare'] = scaler_fare.fit_transform(df_test[['Fare']])\n",
    "\n",
    "# Only consider Pclass, sex, age, sibsp, fare, parch, & port\n",
    "inputs_test = df_test[vars_list].to_numpy()\n",
    "\n",
    "# Impute missing values to mean\n",
    "imp = SimpleImputer(missing_values=np.nan, strategy='mean')\n",
    "inputs_test = imp.fit_transform(inputs_test)"
   ]
  },
  {
   "cell_type": "code",
   "execution_count": 9,
   "metadata": {
    "execution": {
     "iopub.execute_input": "2021-02-02T18:30:12.054400Z",
     "iopub.status.busy": "2021-02-02T18:30:12.053400Z",
     "iopub.status.idle": "2021-02-02T18:30:12.101870Z",
     "shell.execute_reply": "2021-02-02T18:30:12.102453Z"
    },
    "papermill": {
     "duration": 0.067309,
     "end_time": "2021-02-02T18:30:12.102652",
     "exception": false,
     "start_time": "2021-02-02T18:30:12.035343",
     "status": "completed"
    },
    "tags": []
   },
   "outputs": [],
   "source": [
    "# Convert to tensor and predict\n",
    "features_test = tf.constant(inputs_test, dtype=float)\n",
    "labels_test = model.predict(features_test)\n",
    "labels_test[labels_test >= 0.5] = 1\n",
    "labels_test[labels_test < 0.5] = 0"
   ]
  },
  {
   "cell_type": "markdown",
   "metadata": {
    "tags": [
     "papermill-error-cell-tag"
    ]
   },
   "source": [
    "<span id=\"papermill-error-cell\" style=\"color:red; font-family:Helvetica Neue, Helvetica, Arial, sans-serif; font-size:2em;\">Execution using papermill encountered an exception here and stopped:</span>"
   ]
  },
  {
   "cell_type": "code",
   "execution_count": 10,
   "metadata": {
    "execution": {
     "iopub.execute_input": "2021-02-02T18:30:12.130067Z",
     "iopub.status.busy": "2021-02-02T18:30:12.129359Z",
     "iopub.status.idle": "2021-02-02T18:30:12.161234Z",
     "shell.execute_reply": "2021-02-02T18:30:12.160552Z"
    },
    "papermill": {
     "duration": 0.046958,
     "end_time": "2021-02-02T18:30:12.161452",
     "exception": false,
     "start_time": "2021-02-02T18:30:12.114494",
     "status": "completed"
    },
    "tags": []
   },
   "outputs": [
    {
     "ename": "NameError",
     "evalue": "name 'df' is not defined",
     "output_type": "error",
     "traceback": [
      "\u001b[0;31m---------------------------------------------------------------------------\u001b[0m",
      "\u001b[0;31mNameError\u001b[0m                                 Traceback (most recent call last)",
      "\u001b[0;32m<ipython-input-10-fc17b4c3f175>\u001b[0m in \u001b[0;36m<module>\u001b[0;34m\u001b[0m\n\u001b[1;32m      1\u001b[0m \u001b[0;31m# Construct the submission df and save\u001b[0m\u001b[0;34m\u001b[0m\u001b[0;34m\u001b[0m\u001b[0;34m\u001b[0m\u001b[0m\n\u001b[0;32m----> 2\u001b[0;31m \u001b[0mdf_submit\u001b[0m \u001b[0;34m=\u001b[0m \u001b[0mpd\u001b[0m\u001b[0;34m.\u001b[0m\u001b[0mDataFrame\u001b[0m\u001b[0;34m(\u001b[0m\u001b[0;34m{\u001b[0m\u001b[0;34m'PassengerId'\u001b[0m\u001b[0;34m:\u001b[0m\u001b[0mdf\u001b[0m\u001b[0;34m[\u001b[0m\u001b[0;34m'PassengerId'\u001b[0m\u001b[0;34m]\u001b[0m\u001b[0;34m,\u001b[0m \u001b[0;34m'Survived'\u001b[0m\u001b[0;34m:\u001b[0m\u001b[0mlabels_test\u001b[0m\u001b[0;34m.\u001b[0m\u001b[0mreshape\u001b[0m\u001b[0;34m(\u001b[0m\u001b[0;34m-\u001b[0m\u001b[0;36m1\u001b[0m\u001b[0;34m)\u001b[0m\u001b[0;34m}\u001b[0m\u001b[0;34m)\u001b[0m\u001b[0;34m\u001b[0m\u001b[0;34m\u001b[0m\u001b[0m\n\u001b[0m\u001b[1;32m      3\u001b[0m \u001b[0mdf_submit\u001b[0m\u001b[0;34m[\u001b[0m\u001b[0;34m'Survived'\u001b[0m\u001b[0;34m]\u001b[0m \u001b[0;34m=\u001b[0m \u001b[0mdf_submit\u001b[0m\u001b[0;34m[\u001b[0m\u001b[0;34m'Survived'\u001b[0m\u001b[0;34m]\u001b[0m\u001b[0;34m.\u001b[0m\u001b[0mastype\u001b[0m\u001b[0;34m(\u001b[0m\u001b[0mint\u001b[0m\u001b[0;34m)\u001b[0m\u001b[0;34m\u001b[0m\u001b[0;34m\u001b[0m\u001b[0m\n\u001b[1;32m      4\u001b[0m \u001b[0mprint\u001b[0m\u001b[0;34m(\u001b[0m\u001b[0mdf_submit\u001b[0m\u001b[0;34m.\u001b[0m\u001b[0mhead\u001b[0m\u001b[0;34m(\u001b[0m\u001b[0;34m)\u001b[0m\u001b[0;34m)\u001b[0m\u001b[0;34m\u001b[0m\u001b[0;34m\u001b[0m\u001b[0m\n\u001b[1;32m      5\u001b[0m \u001b[0;34m\u001b[0m\u001b[0m\n",
      "\u001b[0;31mNameError\u001b[0m: name 'df' is not defined"
     ]
    }
   ],
   "source": [
    "# Construct the submission df and save \n",
    "df_submit = pd.DataFrame({'PassengerId':df['PassengerId'], 'Survived':labels_test.reshape(-1)})\n",
    "df_submit['Survived'] = df_submit['Survived'].astype(int)\n",
    "print(df_submit.head())\n",
    "\n",
    "df_submit.to_csv('neural_submission.csv', index=False)"
   ]
  }
 ],
 "metadata": {
  "kernelspec": {
   "display_name": "Python 3",
   "language": "python",
   "name": "python3"
  },
  "language_info": {
   "codemirror_mode": {
    "name": "ipython",
    "version": 3
   },
   "file_extension": ".py",
   "mimetype": "text/x-python",
   "name": "python",
   "nbconvert_exporter": "python",
   "pygments_lexer": "ipython3",
   "version": "3.7.9"
  },
  "papermill": {
   "default_parameters": {},
   "duration": 38.819673,
   "end_time": "2021-02-02T18:30:13.387186",
   "environment_variables": {},
   "exception": null,
   "input_path": "__notebook__.ipynb",
   "output_path": "__notebook__.ipynb",
   "parameters": {},
   "start_time": "2021-02-02T18:29:34.567513",
   "version": "2.2.2"
  }
 },
 "nbformat": 4,
 "nbformat_minor": 4
}
